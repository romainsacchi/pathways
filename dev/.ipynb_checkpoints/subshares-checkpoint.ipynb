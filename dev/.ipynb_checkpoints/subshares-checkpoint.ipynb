{
 "cells": [
  {
   "cell_type": "code",
   "execution_count": 1,
   "id": "65dcc749-e5e4-4dd6-9666-057efb345fa0",
   "metadata": {},
   "outputs": [
    {
     "name": "stdout",
     "output_type": "stream",
     "text": [
      "Invalid datapackage: Descriptor validation error: {'path': 'mapping/mapping.yaml', 'profile': 'data-resource', 'name': 'mapping', 'format': 'yaml', 'mediatype': 'text/yaml', 'encoding': 'utf-8'} is not valid under any of the given schemas at \"resources/9\" in descriptor and at \"properties/resources/items/oneOf\" in profile\n",
      "Invalid datapackage: Descriptor validation error: 'data-resource' is not one of ['tabular-data-resource'] at \"resources/9/profile\" in descriptor and at \"properties/resources/items/properties/profile/enum\" in profile\n"
     ]
    }
   ],
   "source": [
    "from pathways import Pathways\n",
    "p = Pathways(datapackage=\"/Users/romain/GitHub/sweet_sure-2050-switzerland/dev/image-SSP2-stem-SPS1.zip\", debug=True)"
   ]
  },
  {
   "cell_type": "code",
   "execution_count": 2,
   "id": "47c927ee-d79c-44f2-8896-57a2bbb21876",
   "metadata": {},
   "outputs": [
    {
     "name": "stdout",
     "output_type": "stream",
     "text": [
      "Calculating LCA results for image...\n",
      "--- Calculating LCA results for SSP2-RCP26...\n",
      "------ Calculating LCA results for 2020...\n"
     ]
    },
    {
     "name": "stderr",
     "output_type": "stream",
     "text": [
      "0% [#] 100% | ETA: 00:00:01\n",
      "Total time elapsed: 00:00:00\n"
     ]
    },
    {
     "name": "stdout",
     "output_type": "stream",
     "text": [
      "------ Calculating LCA results for 2050...\n"
     ]
    },
    {
     "name": "stderr",
     "output_type": "stream",
     "text": [
      "0% [#] 100% | ETA: 00:00:01\n",
      "Total time elapsed: 00:00:00\n",
      "0% [##] 100% | ETA: 00:00:00\n",
      "Total time elapsed: 00:00:03\n"
     ]
    }
   ],
   "source": [
    "import numpy as np\n",
    "p.calculate(\n",
    "    methods=[\n",
    "        #'IPCC 2021 - climate change - GWP 100a, incl. H',\n",
    "        'IPCC 2021 - climate change - GWP 100a, incl. H and bio CO2',\n",
    "    ], #+ [m for m in p.lcia_methods if \"relics\" in m.lower()][-3:],\n",
    "    regions=[\"CH\",],\n",
    "    scenarios=[\n",
    "        #\"SSP2-Base\",\n",
    "        \"SSP2-RCP26\",\n",
    "    ],\n",
    "    variables=[\n",
    "        \"hydro_run_of_river\",\n",
    "        \"hydro (reservoir)\",\n",
    "        \"hydro (pumped storage)\",\n",
    "        \"nuclear (boiling water)\",\n",
    "        \"nuclear (pressure water)\",\n",
    "        \"oil (peak devices)\",\n",
    "        \"oil (DH CHP)\",\n",
    "        \"oil (industry CHP)\",\n",
    "        \"gas (CCGT)\",\n",
    "        \"gas (OCGT)\",\n",
    "        \"gas (CCGT CCS)\",\n",
    "        \"gas (CHP DH)\",\n",
    "        \"gas (fuel cell DH)\",\n",
    "        \"gas (CHP industry)\",\n",
    "        \"gas (CHP CCS industry)\",\n",
    "        \"gas (CHP fuel cell reformer)\",\n",
    "        \"gas (CHP single family)\",\n",
    "        \"gas (single family CHP fuel cell)\",\n",
    "        \"gas (multi family CHP)\",\n",
    "        \"gas (multi family CHP fuel cell)\",\n",
    "        \"biogas (services CHP)\",\n",
    "        \"gas (services CHP)\",\n",
    "        \"gas (services CHP fuel cell)\",\n",
    "        \"waste incineration, fossil\",\n",
    "        \"waste incineration, fossil (CHP)\",\n",
    "        \"waste incineration, fossil (industrial)\",\n",
    "        \"waste incineration, fossil (CCS)\",\n",
    "        \"waste incineration, fossil (CHP, CCS)\",\n",
    "        \"waste incineration, fossil (industrial, CCS)\",\n",
    "        \"waste incineration, non-fossil\",\n",
    "        \"waste incineration, non-fossil (CHP)\",\n",
    "        \"waste incineration, non-fossil (industrial)\",\n",
    "        \"waste incineration, non-fossil (CCS)\",\n",
    "        \"waste incineration, non-fossil (CHP, CCS)\",\n",
    "        \"waste incineration, non-fossil (industrial, CCS)\",\n",
    "        \"pv (large scale)\",\n",
    "        \"pv (industry)\",\n",
    "        \"pv (services)\",\n",
    "        \"pv residential (multi family)\",\n",
    "        \"pv residential (single family)\",\n",
    "        \"wind\",\n",
    "        \"geothermal\",\n",
    "        \"hydrogen fuel cell (DH CHP)\",\n",
    "        \"hydrogen fuel cell (industrial CHP)\",\n",
    "        \"hydrogen fuel cell (services CHP)\",\n",
    "        \"biomass (DH)\",\n",
    "        \"biomass (CHP)\",\n",
    "        \"biomass (CCS, BECCS)\",\n",
    "        \"biomass (CCS, industrial)\",\n",
    "        \"battery (large)\",\n",
    "        \"battery (medium)\",\n",
    "        \"battery (industry)\",\n",
    "        \"battery (services)\",\n",
    "        \"battery (single family)\",\n",
    "        \"battery (multi family)\",\n",
    "        \"CAES\",\n",
    "        \"import\",\n",
    "    ],\n",
    "    years=[\n",
    "        2020,\n",
    "        #2022,\n",
    "        #2030,\n",
    "        #2040,\n",
    "        2050\n",
    "    ],\n",
    "    multiprocessing=False,\n",
    "    use_distributions=3,\n",
    "    subshares=True\n",
    ")"
   ]
  },
  {
   "cell_type": "code",
   "execution_count": 3,
   "id": "68c573e7-3342-400b-8aa3-76477b42909d",
   "metadata": {},
   "outputs": [],
   "source": [
    "p.lca_results = p.lca_results.sum(dim=\"act_category\").interp(\n",
    "    year=range(2020, 2051)\n",
    ")"
   ]
  },
  {
   "cell_type": "code",
   "execution_count": 4,
   "id": "461d38d3-438e-4bca-a8e1-d885cd975bc7",
   "metadata": {},
   "outputs": [],
   "source": [
    "df = p.lca_results.to_dataframe(\"value\")\n",
    "df = df[df[\"value\"]!=0.0]\n",
    "df = df[~df[\"value\"].isnull()]\n",
    "df=df.reset_index()"
   ]
  },
  {
   "cell_type": "code",
   "execution_count": 5,
   "id": "f0e0d62e-2f58-424e-94dc-ab18a1f84f1d",
   "metadata": {},
   "outputs": [
    {
     "data": {
      "text/html": [
       "\n",
       "        <iframe\n",
       "            width=\"100%\"\n",
       "            height=\"500\"\n",
       "            src=\"test.html\"\n",
       "            frameborder=\"0\"\n",
       "            allowfullscreen\n",
       "            \n",
       "        ></iframe>\n",
       "        "
      ],
      "text/plain": [
       "<IPython.lib.display.IFrame at 0x282471210>"
      ]
     },
     "execution_count": 5,
     "metadata": {},
     "output_type": "execute_result"
    }
   ],
   "source": [
    "from pivottablejs import pivot_ui\n",
    "from IPython.display import HTML\n",
    "pivot_ui(df, outfile_path='test.html')"
   ]
  },
  {
   "cell_type": "code",
   "execution_count": null,
   "id": "c34b7eee-3891-46ca-9fb8-c214e9bc96b5",
   "metadata": {},
   "outputs": [],
   "source": []
  },
  {
   "cell_type": "code",
   "execution_count": 9,
   "id": "fdab6a8c-b430-4d1a-a08c-ee982622fef2",
   "metadata": {},
   "outputs": [],
   "source": [
    "import yaml\n",
    "import numpy as np\n",
    "SUBSHARES = \"../pathways/data/technologies_shares.yaml\"\n",
    "\n",
    "\n",
    "def load_subshares() -> dict:\n",
    "    \"\"\"\n",
    "    Load a YAML file and return its content as a Python dictionary.\n",
    "    :return: A dictionary with the categories, technologies and market shares data.\n",
    "    \"\"\"\n",
    "    with open(SUBSHARES) as stream:\n",
    "        data = yaml.safe_load(stream)\n",
    "\n",
    "    return data\n",
    "\n",
    "\n",
    "def adjust_subshares(data) -> dict:\n",
    "    \"\"\"\n",
    "    Adjust the subshares data to ensure that the sum of the 2020 values is equal to 1,\n",
    "    after neglecting the technologies with no name.\n",
    "    :param data: Dictionary with the categories, technologies and market shares data.\n",
    "    :return: Adjusted dictionary.\n",
    "    \"\"\"\n",
    "    for category, technologies in data.items():\n",
    "\n",
    "        # Initialize totals\n",
    "        total_2020_value = 0\n",
    "        total_adjustable_value = 0\n",
    "\n",
    "        # First pass to calculate totals\n",
    "        for subcategory, tech_list in technologies.items():\n",
    "            for tech in tech_list:\n",
    "                if 2020 in tech:\n",
    "                    value = tech[2020].get(\"value\", 0)\n",
    "                    total_2020_value += value\n",
    "                    if tech.get(\"name\") is not None:\n",
    "                        total_adjustable_value += value\n",
    "\n",
    "        # Skip adjustment if no values or all values are named\n",
    "        if total_2020_value == 0 or total_adjustable_value == 0:\n",
    "            continue\n",
    "\n",
    "        adjustment_factor = total_2020_value / total_adjustable_value\n",
    "\n",
    "        # Second pass to adjust values\n",
    "        adjusted_total = 0\n",
    "        for subcategory, tech_list in technologies.items():\n",
    "            for tech in tech_list:\n",
    "                if 2020 in tech and tech.get(\"name\") is not None:\n",
    "                    tech[2020][\"value\"] = tech[2020][\"value\"] * adjustment_factor\n",
    "                    adjusted_total += tech[2020][\"value\"]\n",
    "\n",
    "        # Check if the adjusted total is close to 1.00, allowing a small margin for floating-point arithmetic\n",
    "        if not np.isclose(adjusted_total, 1.00, rtol=1e-9):\n",
    "            print(\n",
    "                f\"Warning: Total of adjusted '2020' values in category '{category}' does not add up to 1.00 (Total: {adjusted_total})\"\n",
    "            )\n",
    "\n",
    "    return data"
   ]
  },
  {
   "cell_type": "code",
   "execution_count": 11,
   "id": "1634dd0c-5d1e-4ae1-b867-85a4f8b16711",
   "metadata": {},
   "outputs": [
    {
     "data": {
      "text/plain": [
       "{'Wind': {'onshore': [{'name': 'electricity production, wind, <1MW turbine, onshore',\n",
       "    'reference product': 'electricity, high voltage',\n",
       "    'unit': 'kilowatt hour',\n",
       "    2020: {'value': 0.96},\n",
       "    2050: {'min': 0.83, 'max': 0.96, 'distribution': 'uniform'},\n",
       "    'create copy': False}],\n",
       "  'offshore': [{'name': 'electricity production, wind, 1-3MW turbine, offshore',\n",
       "    'reference product': 'electricity, high voltage',\n",
       "    'unit': 'kilowatt hour',\n",
       "    2020: {'value': 0.04},\n",
       "    2050: {'min': 0.04, 'max': 0.17, 'distribution': 'uniform'},\n",
       "    'create copy': False}]},\n",
       " 'PV': {'c-Si': [{'name': 'electricity production, photovoltaic, at 93 kWp slanted-roof, multi-Si, laminated, integrated',\n",
       "    'reference product': 'electricity production, photovoltaic, at 93 kWp slanted-roof, multi-Si, laminated, integrated',\n",
       "    'unit': 'kilowatt hour',\n",
       "    2020: {'value': 0.944},\n",
       "    2050: {'min': 0.625, 'max': 0.944, 'distribution': 'uniform'},\n",
       "    'create copy': False}],\n",
       "  'CdTe': [{'name': 'electricity production, photovoltaic, at 3kWp slanted-roof, CdTe, panel, mounted',\n",
       "    'reference product': 'electricity production, photovoltaic, at 3kWp slanted-roof, CdTe, panel, mounted',\n",
       "    'unit': 'kilowatt hour',\n",
       "    2020: {'value': 0.04},\n",
       "    2050: {'min': 0.04, 'max': 0.25, 'distribution': 'uniform'},\n",
       "    'create copy': False}],\n",
       "  'CIGS': [{'name': 'electricity production, photovoltaic, 3kWp slanted-roof installation, CdTe, laminated, integrated',\n",
       "    'reference product': 'electricity, low voltage',\n",
       "    'unit': 'kilowatt hour',\n",
       "    2020: {'value': 0.015},\n",
       "    2050: {'min': 0.015, 'max': 0.125, 'distribution': 'uniform'},\n",
       "    'create copy': False}],\n",
       "  'a-Si': [{'name': 'electricity production, photovoltaic, 3kWp slanted-roof installation, a-Si, laminated, integrated',\n",
       "    'reference product': 'electricity, low voltage',\n",
       "    'unit': 'kilowatt hour',\n",
       "    2020: {'value': 0.001},\n",
       "    2050: {'min': 0.0, 'max': 0.009, 'distribution': 'uniform'},\n",
       "    'create copy': False}],\n",
       "  'Perovskite': [{'name': None,\n",
       "    'reference product': None,\n",
       "    'unit': 'kilowatt hour',\n",
       "    2020: {'value': 0.0},\n",
       "    2050: {'min': 0.0, 'max': 0.3, 'distribution': 'uniform'},\n",
       "    'create copy': False}],\n",
       "  'GaAs': [{'name': None,\n",
       "    'reference product': None,\n",
       "    'unit': 'kilowatt hour',\n",
       "    2020: {'value': 0.0},\n",
       "    2050: {'min': 0.0, 'max': 0.15, 'distribution': 'uniform'},\n",
       "    'create copy': False}]},\n",
       " 'CSP': {'Parabolic trough': [{'name': 'electricity production, solar thermal parabolic trough, 50 MW',\n",
       "    'reference product': 'electricity, high voltage',\n",
       "    'unit': 'kilowatt hour',\n",
       "    2020: {'value': 0.9474},\n",
       "    2050: {'min': 0.5, 'max': 0.95, 'distribution': 'uniform'},\n",
       "    'create copy': False}],\n",
       "  'Solar tower': [{'name': 'electricity production, solar tower power plant, 20 MW',\n",
       "    'reference product': 'electricity, high voltage',\n",
       "    'unit': 'kilowatt hour',\n",
       "    2020: {'value': 0.0526},\n",
       "    2050: {'min': 0.05, 'max': 0.5, 'distribution': 'uniform'},\n",
       "    'create copy': False}]},\n",
       " 'Fuel cell - Stationary': {'PEMFC': [{'name': 'electricity, residential, by conversion of hydrogen using fuel cell, PEM, allocated by exergy, distributed by pipeline, produced by Electrolysis, PEM using electricity from grid',\n",
       "    'reference product': 'electricity, from residential heating system',\n",
       "    'unit': 'kilowatt hour',\n",
       "    2020: {'value': 0.1053},\n",
       "    2050: {'min': 0.115, 'max': 0.85, 'distribution': 'uniform'},\n",
       "    'create copy': False}],\n",
       "  'SOFC': [{'name': 'electricity, residential, by conversion of hydrogen using fuel cell, SOFC, allocated by exergy, distributed by pipeline, produced by Electrolysis, PEM using electricity from grid',\n",
       "    'reference product': 'electricity, from residential heating system',\n",
       "    'unit': 'kilowatt hour',\n",
       "    2020: {'value': 0.3684},\n",
       "    2050: {'min': 0.117, 'max': 0.4, 'distribution': 'uniform'},\n",
       "    'create copy': False}],\n",
       "  'PAFC': [{'name': None,\n",
       "    'reference product': None,\n",
       "    'unit': 'kilowatt hour',\n",
       "    2020: {'value': 0.5263},\n",
       "    2050: {'min': 0.0, 'max': 0.475, 'distribution': 'uniform'},\n",
       "    'create copy': False}]},\n",
       " 'Electrolyzer': {'PEM': [{'name': 'hydrogen production, gaseous, 30 bar, from PEM electrolysis, from grid electricity',\n",
       "    'reference product': 'hydrogen, gaseous, 30 bar',\n",
       "    'unit': 'kilogram',\n",
       "    2020: {'value': 0.5},\n",
       "    2050: {'min': 0.5057, 'max': 0.75, 'distribution': 'uniform'},\n",
       "    'create copy': False}],\n",
       "  'Alkaline': [{'name': 'hydrogen production, gaseous, 20 bar, from AEC electrolysis, from grid electricity',\n",
       "    'reference product': 'hydrogen, gaseous, 20 bar',\n",
       "    'unit': 'kilogram',\n",
       "    2020: {'value': 0.5},\n",
       "    2050: {'min': 0.0, 'max': 0.4943, 'distribution': 'uniform'},\n",
       "    'create copy': False}],\n",
       "  'HTEL': [{'name': 'hydrogen production, gaseous, 1 bar, from SOEC electrolysis, from grid electricity',\n",
       "    'reference product': 'hydrogen, gaseous, 1 bar',\n",
       "    'unit': None,\n",
       "    2020: {'value': 0.0},\n",
       "    2050: {'min': 0.0, 'max': 0.25, 'distribution': 'uniform'},\n",
       "    'create copy': False}]},\n",
       " 'Battery-Mobile': {'NMC111': [{'name': 'battery cell, NMC-111',\n",
       "    'reference product': 'battery cell',\n",
       "    'unit': 'kilogram',\n",
       "    2020: {'value': 0.25},\n",
       "    2050: {'min': 0.0, 'max': 0.22, 'distribution': 'uniform'},\n",
       "    'create copy': False}],\n",
       "  'NMC622': [{'name': 'battery cell, NMC-622',\n",
       "    'reference product': 'battery cell',\n",
       "    'unit': 'kilogram',\n",
       "    2020: {'value': 0.45},\n",
       "    2050: {'min': 0.0, 'max': 0.45, 'distribution': 'uniform'},\n",
       "    'create copy': False}],\n",
       "  'NMC811': [{'name': 'battery cell, NMC-811',\n",
       "    'reference product': 'battery cell',\n",
       "    'unit': 'kilogram',\n",
       "    2020: {'value': 0.05},\n",
       "    2050: {'min': 0.0, 'max': 0.75, 'distribution': 'uniform'},\n",
       "    'create copy': False}],\n",
       "  'NCA': [{'name': 'battery cell, NCA',\n",
       "    'reference product': 'battery cell',\n",
       "    'unit': 'kilogram',\n",
       "    2020: {'value': 0.15},\n",
       "    2050: {'min': 0.0, 'max': 0.15, 'distribution': 'uniform'},\n",
       "    'create copy': False}],\n",
       "  'LFP': [{'name': 'battery cell, LFP',\n",
       "    'reference product': 'battery cell',\n",
       "    'unit': 'kilogram',\n",
       "    2020: {'value': 0.1},\n",
       "    2050: {'min': 0.0, 'max': 0.1, 'distribution': 'uniform'},\n",
       "    'create copy': False}],\n",
       "  'LiS': [{'name': 'battery cell production, LiS',\n",
       "    'reference product': 'battery cell, LiS',\n",
       "    'unit': 'kilogram',\n",
       "    2020: {'value': 0.0},\n",
       "    2050: {'min': 0.0, 'max': 0.9, 'distribution': 'uniform'},\n",
       "    'create copy': False}],\n",
       "  'LiO2': [{'name': 'battery cell production, Li-O2',\n",
       "    'reference product': 'battery cell, Li-O2',\n",
       "    'unit': 'kilogram',\n",
       "    2020: {'value': 0.0},\n",
       "    2050: {'min': 0.0, 'max': 0.1, 'distribution': 'uniform'},\n",
       "    'create copy': False}]},\n",
       " 'Battery-Stationary': {'NMC111': [{'name': 'market for battery cell, Li-ion, NMC111',\n",
       "    'reference product': 'battery cell, Li-ion, NMC111',\n",
       "    'unit': 'kilogram',\n",
       "    2020: {'value': 0.24},\n",
       "    2050: {'min': 0.0, 'max': 0.205, 'distribution': 'uniform'},\n",
       "    'create copy': False}],\n",
       "  'NMC622': [{'name': 'battery cell, NMC-622',\n",
       "    'reference product': 'battery cell',\n",
       "    'unit': 'kilogram',\n",
       "    2020: {'value': 0.13},\n",
       "    2050: {'min': 0.02, 'max': 0.3, 'distribution': 'uniform'},\n",
       "    'create copy': True}],\n",
       "  'NMC811': [{'name': 'market for battery cell, Li-ion, NMC811',\n",
       "    'reference product': 'battery cell, Li-ion, NMC811',\n",
       "    'unit': 'kilogram',\n",
       "    2020: {'value': 0.03},\n",
       "    2050: {'min': 0.039, 'max': 0.44, 'distribution': 'uniform'},\n",
       "    'create copy': False}],\n",
       "  'Lead-Acid': [{'name': 'market for battery, lead acid, rechargeable, stationary',\n",
       "    'reference product': 'battery, lead acid, rechargeable, stationary',\n",
       "    'unit': 'kilogram',\n",
       "    2020: {'value': 0.1},\n",
       "    2050: {'min': 0.0, 'max': 0.095, 'distribution': 'uniform'},\n",
       "    'create copy': False}],\n",
       "  'LFP': [{'name': 'market for battery cell, Li-ion, LFP',\n",
       "    'reference product': 'battery cell, Li-ion, LFP',\n",
       "    'unit': 'kilogram',\n",
       "    2020: {'value': 0.4},\n",
       "    2050: {'min': 0.17, 'max': 0.4, 'distribution': 'uniform'},\n",
       "    'create copy': False}],\n",
       "  'SIB': [{'name': 'battery cell production, SIB, with NMMT cathode and fossil-HC anode',\n",
       "    'reference product': 'battery cell, SIB, with NMMT cathode and fossil-HC anode',\n",
       "    'unit': 'kilogram',\n",
       "    2020: {'value': 0.05},\n",
       "    2050: {'min': 0.05, 'max': 0.33, 'distribution': 'uniform'},\n",
       "    'create copy': False}],\n",
       "  'Redox-Flow': [{'name': 'vanadium-redox flow battery system assembly, 8.3 megawatt hour',\n",
       "    'reference product': 'vanadium-redox flow battery system',\n",
       "    'unit': 'unit',\n",
       "    2020: {'value': 0.05},\n",
       "    2050: {'min': 0.05, 'max': 0.33, 'distribution': 'uniform'},\n",
       "    'create copy': False}]}}"
      ]
     },
     "execution_count": 11,
     "metadata": {},
     "output_type": "execute_result"
    }
   ],
   "source": [
    "load_subshares()"
   ]
  },
  {
   "cell_type": "code",
   "execution_count": 13,
   "id": "b3b0c752-ec8d-4831-a134-ad659191c459",
   "metadata": {},
   "outputs": [
    {
     "data": {
      "text/plain": [
       "{'Wind': {'onshore': [{'name': 'electricity production, wind, <1MW turbine, onshore',\n",
       "    'reference product': 'electricity, high voltage',\n",
       "    'unit': 'kilowatt hour',\n",
       "    2020: {'value': 0.96},\n",
       "    2050: {'min': 0.83, 'max': 0.96, 'distribution': 'uniform'},\n",
       "    'create copy': False}],\n",
       "  'offshore': [{'name': 'electricity production, wind, 1-3MW turbine, offshore',\n",
       "    'reference product': 'electricity, high voltage',\n",
       "    'unit': 'kilowatt hour',\n",
       "    2020: {'value': 0.04},\n",
       "    2050: {'min': 0.04, 'max': 0.17, 'distribution': 'uniform'},\n",
       "    'create copy': False}]},\n",
       " 'PV': {'c-Si': [{'name': 'electricity production, photovoltaic, at 93 kWp slanted-roof, multi-Si, laminated, integrated',\n",
       "    'reference product': 'electricity production, photovoltaic, at 93 kWp slanted-roof, multi-Si, laminated, integrated',\n",
       "    'unit': 'kilowatt hour',\n",
       "    2020: {'value': 0.944},\n",
       "    2050: {'min': 0.625, 'max': 0.944, 'distribution': 'uniform'},\n",
       "    'create copy': False}],\n",
       "  'CdTe': [{'name': 'electricity production, photovoltaic, at 3kWp slanted-roof, CdTe, panel, mounted',\n",
       "    'reference product': 'electricity production, photovoltaic, at 3kWp slanted-roof, CdTe, panel, mounted',\n",
       "    'unit': 'kilowatt hour',\n",
       "    2020: {'value': 0.04},\n",
       "    2050: {'min': 0.04, 'max': 0.25, 'distribution': 'uniform'},\n",
       "    'create copy': False}],\n",
       "  'CIGS': [{'name': 'electricity production, photovoltaic, 3kWp slanted-roof installation, CdTe, laminated, integrated',\n",
       "    'reference product': 'electricity, low voltage',\n",
       "    'unit': 'kilowatt hour',\n",
       "    2020: {'value': 0.015},\n",
       "    2050: {'min': 0.015, 'max': 0.125, 'distribution': 'uniform'},\n",
       "    'create copy': False}],\n",
       "  'a-Si': [{'name': 'electricity production, photovoltaic, 3kWp slanted-roof installation, a-Si, laminated, integrated',\n",
       "    'reference product': 'electricity, low voltage',\n",
       "    'unit': 'kilowatt hour',\n",
       "    2020: {'value': 0.001},\n",
       "    2050: {'min': 0.0, 'max': 0.009, 'distribution': 'uniform'},\n",
       "    'create copy': False}],\n",
       "  'Perovskite': [{'name': None,\n",
       "    'reference product': None,\n",
       "    'unit': 'kilowatt hour',\n",
       "    2020: {'value': 0.0},\n",
       "    2050: {'min': 0.0, 'max': 0.3, 'distribution': 'uniform'},\n",
       "    'create copy': False}],\n",
       "  'GaAs': [{'name': None,\n",
       "    'reference product': None,\n",
       "    'unit': 'kilowatt hour',\n",
       "    2020: {'value': 0.0},\n",
       "    2050: {'min': 0.0, 'max': 0.15, 'distribution': 'uniform'},\n",
       "    'create copy': False}]},\n",
       " 'CSP': {'Parabolic trough': [{'name': 'electricity production, solar thermal parabolic trough, 50 MW',\n",
       "    'reference product': 'electricity, high voltage',\n",
       "    'unit': 'kilowatt hour',\n",
       "    2020: {'value': 0.9474},\n",
       "    2050: {'min': 0.5, 'max': 0.95, 'distribution': 'uniform'},\n",
       "    'create copy': False}],\n",
       "  'Solar tower': [{'name': 'electricity production, solar tower power plant, 20 MW',\n",
       "    'reference product': 'electricity, high voltage',\n",
       "    'unit': 'kilowatt hour',\n",
       "    2020: {'value': 0.0526},\n",
       "    2050: {'min': 0.05, 'max': 0.5, 'distribution': 'uniform'},\n",
       "    'create copy': False}]},\n",
       " 'Fuel cell - Stationary': {'PEMFC': [{'name': 'electricity, residential, by conversion of hydrogen using fuel cell, PEM, allocated by exergy, distributed by pipeline, produced by Electrolysis, PEM using electricity from grid',\n",
       "    'reference product': 'electricity, from residential heating system',\n",
       "    'unit': 'kilowatt hour',\n",
       "    2020: {'value': 0.22229259024699174},\n",
       "    2050: {'min': 0.115, 'max': 0.85, 'distribution': 'uniform'},\n",
       "    'create copy': False}],\n",
       "  'SOFC': [{'name': 'electricity, residential, by conversion of hydrogen using fuel cell, SOFC, allocated by exergy, distributed by pipeline, produced by Electrolysis, PEM using electricity from grid',\n",
       "    'reference product': 'electricity, from residential heating system',\n",
       "    'unit': 'kilowatt hour',\n",
       "    2020: {'value': 0.7777074097530082},\n",
       "    2050: {'min': 0.117, 'max': 0.4, 'distribution': 'uniform'},\n",
       "    'create copy': False}],\n",
       "  'PAFC': [{'name': None,\n",
       "    'reference product': None,\n",
       "    'unit': 'kilowatt hour',\n",
       "    2020: {'value': 0.5263},\n",
       "    2050: {'min': 0.0, 'max': 0.475, 'distribution': 'uniform'},\n",
       "    'create copy': False}]},\n",
       " 'Electrolyzer': {'PEM': [{'name': 'hydrogen production, gaseous, 30 bar, from PEM electrolysis, from grid electricity',\n",
       "    'reference product': 'hydrogen, gaseous, 30 bar',\n",
       "    'unit': 'kilogram',\n",
       "    2020: {'value': 0.5},\n",
       "    2050: {'min': 0.5057, 'max': 0.75, 'distribution': 'uniform'},\n",
       "    'create copy': False}],\n",
       "  'Alkaline': [{'name': 'hydrogen production, gaseous, 20 bar, from AEC electrolysis, from grid electricity',\n",
       "    'reference product': 'hydrogen, gaseous, 20 bar',\n",
       "    'unit': 'kilogram',\n",
       "    2020: {'value': 0.5},\n",
       "    2050: {'min': 0.0, 'max': 0.4943, 'distribution': 'uniform'},\n",
       "    'create copy': False}],\n",
       "  'HTEL': [{'name': 'hydrogen production, gaseous, 1 bar, from SOEC electrolysis, from grid electricity',\n",
       "    'reference product': 'hydrogen, gaseous, 1 bar',\n",
       "    'unit': None,\n",
       "    2020: {'value': 0.0},\n",
       "    2050: {'min': 0.0, 'max': 0.25, 'distribution': 'uniform'},\n",
       "    'create copy': False}]},\n",
       " 'Battery-Mobile': {'NMC111': [{'name': 'battery cell, NMC-111',\n",
       "    'reference product': 'battery cell',\n",
       "    'unit': 'kilogram',\n",
       "    2020: {'value': 0.25},\n",
       "    2050: {'min': 0.0, 'max': 0.22, 'distribution': 'uniform'},\n",
       "    'create copy': False}],\n",
       "  'NMC622': [{'name': 'battery cell, NMC-622',\n",
       "    'reference product': 'battery cell',\n",
       "    'unit': 'kilogram',\n",
       "    2020: {'value': 0.45},\n",
       "    2050: {'min': 0.0, 'max': 0.45, 'distribution': 'uniform'},\n",
       "    'create copy': False}],\n",
       "  'NMC811': [{'name': 'battery cell, NMC-811',\n",
       "    'reference product': 'battery cell',\n",
       "    'unit': 'kilogram',\n",
       "    2020: {'value': 0.05},\n",
       "    2050: {'min': 0.0, 'max': 0.75, 'distribution': 'uniform'},\n",
       "    'create copy': False}],\n",
       "  'NCA': [{'name': 'battery cell, NCA',\n",
       "    'reference product': 'battery cell',\n",
       "    'unit': 'kilogram',\n",
       "    2020: {'value': 0.15},\n",
       "    2050: {'min': 0.0, 'max': 0.15, 'distribution': 'uniform'},\n",
       "    'create copy': False}],\n",
       "  'LFP': [{'name': 'battery cell, LFP',\n",
       "    'reference product': 'battery cell',\n",
       "    'unit': 'kilogram',\n",
       "    2020: {'value': 0.1},\n",
       "    2050: {'min': 0.0, 'max': 0.1, 'distribution': 'uniform'},\n",
       "    'create copy': False}],\n",
       "  'LiS': [{'name': 'battery cell production, LiS',\n",
       "    'reference product': 'battery cell, LiS',\n",
       "    'unit': 'kilogram',\n",
       "    2020: {'value': 0.0},\n",
       "    2050: {'min': 0.0, 'max': 0.9, 'distribution': 'uniform'},\n",
       "    'create copy': False}],\n",
       "  'LiO2': [{'name': 'battery cell production, Li-O2',\n",
       "    'reference product': 'battery cell, Li-O2',\n",
       "    'unit': 'kilogram',\n",
       "    2020: {'value': 0.0},\n",
       "    2050: {'min': 0.0, 'max': 0.1, 'distribution': 'uniform'},\n",
       "    'create copy': False}]},\n",
       " 'Battery-Stationary': {'NMC111': [{'name': 'market for battery cell, Li-ion, NMC111',\n",
       "    'reference product': 'battery cell, Li-ion, NMC111',\n",
       "    'unit': 'kilogram',\n",
       "    2020: {'value': 0.24},\n",
       "    2050: {'min': 0.0, 'max': 0.205, 'distribution': 'uniform'},\n",
       "    'create copy': False}],\n",
       "  'NMC622': [{'name': 'battery cell, NMC-622',\n",
       "    'reference product': 'battery cell',\n",
       "    'unit': 'kilogram',\n",
       "    2020: {'value': 0.13},\n",
       "    2050: {'min': 0.02, 'max': 0.3, 'distribution': 'uniform'},\n",
       "    'create copy': True}],\n",
       "  'NMC811': [{'name': 'market for battery cell, Li-ion, NMC811',\n",
       "    'reference product': 'battery cell, Li-ion, NMC811',\n",
       "    'unit': 'kilogram',\n",
       "    2020: {'value': 0.03},\n",
       "    2050: {'min': 0.039, 'max': 0.44, 'distribution': 'uniform'},\n",
       "    'create copy': False}],\n",
       "  'Lead-Acid': [{'name': 'market for battery, lead acid, rechargeable, stationary',\n",
       "    'reference product': 'battery, lead acid, rechargeable, stationary',\n",
       "    'unit': 'kilogram',\n",
       "    2020: {'value': 0.1},\n",
       "    2050: {'min': 0.0, 'max': 0.095, 'distribution': 'uniform'},\n",
       "    'create copy': False}],\n",
       "  'LFP': [{'name': 'market for battery cell, Li-ion, LFP',\n",
       "    'reference product': 'battery cell, Li-ion, LFP',\n",
       "    'unit': 'kilogram',\n",
       "    2020: {'value': 0.4},\n",
       "    2050: {'min': 0.17, 'max': 0.4, 'distribution': 'uniform'},\n",
       "    'create copy': False}],\n",
       "  'SIB': [{'name': 'battery cell production, SIB, with NMMT cathode and fossil-HC anode',\n",
       "    'reference product': 'battery cell, SIB, with NMMT cathode and fossil-HC anode',\n",
       "    'unit': 'kilogram',\n",
       "    2020: {'value': 0.05},\n",
       "    2050: {'min': 0.05, 'max': 0.33, 'distribution': 'uniform'},\n",
       "    'create copy': False}],\n",
       "  'Redox-Flow': [{'name': 'vanadium-redox flow battery system assembly, 8.3 megawatt hour',\n",
       "    'reference product': 'vanadium-redox flow battery system',\n",
       "    'unit': 'unit',\n",
       "    2020: {'value': 0.05},\n",
       "    2050: {'min': 0.05, 'max': 0.33, 'distribution': 'uniform'},\n",
       "    'create copy': False}]}}"
      ]
     },
     "execution_count": 13,
     "metadata": {},
     "output_type": "execute_result"
    }
   ],
   "source": [
    "adjust_subshares(load_subshares())"
   ]
  },
  {
   "cell_type": "code",
   "execution_count": 16,
   "id": "79dc0f30-3e09-4f02-8d2c-4bb720435f0c",
   "metadata": {},
   "outputs": [],
   "source": [
    "def adjust_subshares2(data):\n",
    "    \"\"\"\n",
    "    Adjusts the values in 'data' for each year ensuring the sum equals 1 for each category, excluding technologies without a name.\n",
    "    It dynamically identifies years (integer keys) that contain a 'value' subkey and adjusts them.\n",
    "\n",
    "    :param data: A dictionary with categories as keys, each category is a dictionary of subcategories containing a list of technology dictionaries.\n",
    "    :return: A dictionary with the adjusted values.\n",
    "    \"\"\"\n",
    "    for category, technologies in data.items():\n",
    "        years = identify_years(technologies)\n",
    "        for year in years:\n",
    "            total_value, total_adjustable_value = compute_totals(technologies, year)\n",
    "            if total_value == 0 or total_adjustable_value == 0:\n",
    "                continue\n",
    "            adjust_values(technologies, total_value, total_adjustable_value, category, year)\n",
    "\n",
    "    return data\n",
    "\n",
    "def identify_years(technologies):\n",
    "    years = set()\n",
    "    for subcategory, tech_list in technologies.items():\n",
    "        for tech in tech_list:\n",
    "            year_keys = [key for key in tech.keys() if isinstance(key, int) and 'value' in tech[key]]\n",
    "            years.update(year_keys)\n",
    "    return years\n",
    "\n",
    "def compute_totals(technologies, year):\n",
    "    total_value = 0\n",
    "    total_adjustable_value = 0\n",
    "    for subcategory, tech_list in technologies.items():\n",
    "        for tech in tech_list:\n",
    "            if year in tech:\n",
    "                value = tech[year].get('value', 0)\n",
    "                total_value += value\n",
    "                if tech.get(\"name\") is not None:\n",
    "                    total_adjustable_value += value\n",
    "    return total_value, total_adjustable_value\n",
    "\n",
    "def adjust_values(technologies, total_value, total_adjustable_value, category, year):\n",
    "    adjustment_factor = total_value / total_adjustable_value\n",
    "    adjusted_total = 0\n",
    "    for subcategory, tech_list in technologies.items():\n",
    "        for tech in tech_list:\n",
    "            if year in tech and tech.get(\"name\") is not None:\n",
    "                old_value = tech[year][\"value\"]\n",
    "                tech[year][\"value\"] = old_value * adjustment_factor\n",
    "                adjusted_total += tech[year][\"value\"]\n",
    "\n",
    "    if not np.isclose(adjusted_total, 1.00, rtol=1e-9):\n",
    "        print(f\"Warning: Total of adjusted '{year}' values in category '{category}' does not add up to 1.00 (Total: {adjusted_total})\")\n",
    "\n"
   ]
  },
  {
   "cell_type": "code",
   "execution_count": 18,
   "id": "a5279a9b-ef04-48e0-a5cf-afa379e3f57d",
   "metadata": {},
   "outputs": [
    {
     "data": {
      "text/plain": [
       "True"
      ]
     },
     "execution_count": 18,
     "metadata": {},
     "output_type": "execute_result"
    }
   ],
   "source": [
    "adjust_subshares(load_subshares()) == adjust_subshares2(load_subshares())"
   ]
  },
  {
   "cell_type": "code",
   "execution_count": 34,
   "id": "05255e21-1c4a-4603-a093-dd7ac0749253",
   "metadata": {},
   "outputs": [],
   "source": [
    "def correlated_samples(ranges, defaults, iterations=1000):\n",
    "    \"\"\"\n",
    "    Adjusts randomly selected shares for parameters to sum to 1\n",
    "    while respecting their specified ranges.\n",
    "\n",
    "    :param ranges: Dict with parameter names as keys and (min, max) tuples as values.\n",
    "    :param defaults: Dict with default values for each parameter.\n",
    "    :param iterations: Number of iterations to attempt to find a valid distribution.\n",
    "    :return: A dict with the adjusted shares for each parameter.\n",
    "    \"\"\"\n",
    "    for _ in range(iterations):\n",
    "        shares = {\n",
    "            param: np.random.uniform(low, high)\n",
    "            for param, (low, high) in ranges.items()\n",
    "        }\n",
    "        total_share = sum(shares.values())\n",
    "        shares = {param: share / total_share for param, share in shares.items()}\n",
    "        if all(\n",
    "                ranges[param][0] <= share <= ranges[param][1]\n",
    "                for param, share in shares.items()\n",
    "        ):\n",
    "            return shares\n",
    "\n",
    "    print(f\"Failed to find a valid distribution after {iterations} iterations\")\n",
    "    return defaults"
   ]
  },
  {
   "cell_type": "code",
   "execution_count": 40,
   "id": "797d9e17-838b-485a-a901-077d560bc6b4",
   "metadata": {},
   "outputs": [
    {
     "name": "stdout",
     "output_type": "stream",
     "text": [
      "1.0\n"
     ]
    }
   ],
   "source": [
    "ranges = {\n",
    "    \"A\": (0, 0.9),\n",
    "    \"B\": (0, 0.5),\n",
    "}\n",
    "defaults = {\n",
    "    \"A\": 0.8,\n",
    "    \"B\": 0.2\n",
    "}\n",
    "correlated_samples(ranges, defaults)\n",
    "print(sum(correlated_samples(ranges, defaults).values()))"
   ]
  },
  {
   "cell_type": "code",
   "execution_count": 65,
   "id": "44c7b044-d8ca-4093-bc09-c1761c8ab3ca",
   "metadata": {},
   "outputs": [],
   "source": [
    "import numpy as np\n",
    "\n",
    "def correlated_samples2(ranges, defaults, iterations=1000):\n",
    "    \"\"\"\n",
    "    Generates random samples for parameters such that they sum to 1 and stay within specified ranges.\n",
    "    It tries to generate samples uniformly within the range, then scales them to sum to 1.\n",
    "\n",
    "    :param ranges: Dict with parameter names as keys and (min, max) tuples as values.\n",
    "    :param defaults: Dict with default values for each parameter.\n",
    "    :param iterations: Number of iterations to attempt to find a valid distribution.\n",
    "    :return: A dict with the adjusted shares for each parameter.\n",
    "    \"\"\"\n",
    "    param_keys = list(ranges.keys())\n",
    "    num_params = len(param_keys)\n",
    "\n",
    "    for _ in range(iterations):\n",
    "        raw_samples = np.random.rand(num_params)\n",
    "        min_vals = np.array([ranges[param][0] for param in param_keys])\n",
    "        max_vals = np.array([ranges[param][1] for param in param_keys])\n",
    "\n",
    "        # Scale samples to their respective ranges\n",
    "        scaled_samples = min_vals + raw_samples * (max_vals - min_vals)\n",
    "        scaled_sum = sum(scaled_samples)\n",
    "        \n",
    "        # Normalize to make sure they sum to 1\n",
    "        normalized_samples = scaled_samples / scaled_sum\n",
    "        \n",
    "        if all(ranges[param][0] <= sample <= ranges[param][1] for param, sample in zip(param_keys, normalized_samples)):\n",
    "            return {param: sample for param, sample in zip(param_keys, normalized_samples)}\n",
    "\n",
    "    print(f\"Failed to find a valid distribution after {iterations} iterations\")\n",
    "    return defaults\n"
   ]
  },
  {
   "cell_type": "code",
   "execution_count": 66,
   "id": "b3b150d8-cef6-41a7-9b94-00823587bf45",
   "metadata": {},
   "outputs": [
    {
     "data": {
      "text/plain": [
       "{'A': 0.6353254283714487, 'B': 0.3646745716285514}"
      ]
     },
     "execution_count": 66,
     "metadata": {},
     "output_type": "execute_result"
    }
   ],
   "source": [
    "ranges = {\n",
    "    \"A\": (0, 0.9),\n",
    "    \"B\": (0.3, 0.5),\n",
    "}\n",
    "defaults = {\n",
    "    \"A\": 0.8,\n",
    "    \"B\": 0.2\n",
    "}\n",
    "\n"
   ]
  },
  {
   "cell_type": "code",
   "execution_count": 69,
   "id": "2f960251-7d7e-46a8-b484-3d2832c5438b",
   "metadata": {},
   "outputs": [
    {
     "name": "stdout",
     "output_type": "stream",
     "text": [
      "7.63 µs ± 22 ns per loop (mean ± std. dev. of 7 runs, 100,000 loops each)\n"
     ]
    }
   ],
   "source": [
    "%%timeit\n",
    "correlated_samples(ranges, defaults)"
   ]
  },
  {
   "cell_type": "code",
   "execution_count": 70,
   "id": "9688972f-da56-410b-8f09-22ad2b848f7e",
   "metadata": {},
   "outputs": [
    {
     "name": "stdout",
     "output_type": "stream",
     "text": [
      "7.61 µs ± 38.1 ns per loop (mean ± std. dev. of 7 runs, 100,000 loops each)\n"
     ]
    }
   ],
   "source": [
    "%%timeit\n",
    "correlated_samples2(ranges, defaults)"
   ]
  },
  {
   "cell_type": "code",
   "execution_count": 71,
   "id": "88c99e35-fad3-45a8-8835-666e5dd8d42d",
   "metadata": {},
   "outputs": [],
   "source": []
  },
  {
   "cell_type": "code",
   "execution_count": 3,
   "id": "ecb49170-6179-4fcd-85b1-4eba2cccfa46",
   "metadata": {},
   "outputs": [],
   "source": [
    "import bw_processing as bwp\n",
    "import numpy as np\n",
    "t_data = np.array([\n",
    "    1,   # production of natural gas\n",
    "    1,   # production of carbon fibre\n",
    "    1,   # production of bike\n",
    "    237, # input of natural gas\n",
    "    2.5, # input of carbon fibre\n",
    "])\n",
    "t_indices = np.array([\n",
    "    (101, 101), # production of natural gas\n",
    "    (102, 102), # production of carbon fibre\n",
    "    (103, 103), # production of bike\n",
    "    (101, 102), # input of natural gas\n",
    "    (102, 103), # input of carbon fibre\n",
    "    ], \n",
    "    dtype=bwp.INDICES_DTYPE\n",
    ")\n",
    "t_flip = np.array([False, False, False, True, True])\n",
    "\n",
    "b_data = np.array([26.6])\n",
    "b_indices = np.array([\n",
    "    (201, 102), # emission of CO2\n",
    "    ], \n",
    "    dtype=bwp.INDICES_DTYPE\n",
    ")\n",
    "\n",
    "c_data = np.array([1])\n",
    "c_indices = np.array([\n",
    "    (201, 201), # CF of CO2\n",
    "    ], \n",
    "    dtype=bwp.INDICES_DTYPE\n",
    ")\n",
    "\n",
    "dp_static = bwp.create_datapackage()\n",
    "\n",
    "dp_static.add_persistent_vector(\n",
    "    matrix='technosphere_matrix',\n",
    "    indices_array=t_indices,\n",
    "    data_array=t_data,\n",
    "    flip_array=t_flip,\n",
    ")\n",
    "dp_static.add_persistent_vector(\n",
    "    matrix='biosphere_matrix',\n",
    "    indices_array=b_indices,\n",
    "    data_array=b_data,\n",
    ")\n",
    "dp_static.add_persistent_vector(\n",
    "    matrix='characterization_matrix',\n",
    "    indices_array=c_indices,\n",
    "    data_array=c_data,\n",
    ")"
   ]
  },
  {
   "cell_type": "code",
   "execution_count": 4,
   "id": "04d9694d-5b95-4802-9976-6e9b2dbb6dbb",
   "metadata": {},
   "outputs": [],
   "source": [
    "import bw2calc as bc\n",
    "lca = bc.LCA(\n",
    "    demand={101: 1},\n",
    "    data_objs=[dp_static],\n",
    ")"
   ]
  },
  {
   "cell_type": "code",
   "execution_count": 5,
   "id": "9360ef62-90d5-47c0-b7b2-391e9eeb5917",
   "metadata": {},
   "outputs": [
    {
     "data": {
      "text/plain": [
       "[<bw_processing.datapackage.Datapackage at 0x1773dd310>]"
      ]
     },
     "execution_count": 5,
     "metadata": {},
     "output_type": "execute_result"
    }
   ],
   "source": [
    "lca.packages"
   ]
  },
  {
   "cell_type": "code",
   "execution_count": 87,
   "id": "dd78a163-7f2b-47d4-a5d7-1de18f709bad",
   "metadata": {},
   "outputs": [],
   "source": [
    "lca.lci()"
   ]
  },
  {
   "cell_type": "code",
   "execution_count": 88,
   "id": "92f4b2b6-683b-408b-abe8-bc50d2486be2",
   "metadata": {},
   "outputs": [
    {
     "data": {
      "text/plain": [
       "<3x3 sparse matrix of type '<class 'numpy.float64'>'\n",
       "\twith 5 stored elements in Compressed Sparse Row format>"
      ]
     },
     "execution_count": 88,
     "metadata": {},
     "output_type": "execute_result"
    }
   ],
   "source": [
    "lca.technosphere_matrix"
   ]
  },
  {
   "cell_type": "code",
   "execution_count": 80,
   "id": "e118b4d5-9f69-41da-a1aa-c8e0d26e421a",
   "metadata": {},
   "outputs": [],
   "source": [
    "tech_matrix = [resource[\"name\"] for resource in dp_static.resources if \"technosphere_matrix\" in resource[\"matrix\"]][0]"
   ]
  },
  {
   "cell_type": "code",
   "execution_count": 96,
   "id": "56272f2e-df91-4708-805a-283d3fa4a658",
   "metadata": {},
   "outputs": [
    {
     "name": "stdout",
     "output_type": "stream",
     "text": [
      "201 0\n"
     ]
    }
   ],
   "source": [
    "for key, val in lca.dicts.biosphere.items():\n",
    "    print(key, val)"
   ]
  },
  {
   "cell_type": "code",
   "execution_count": 108,
   "id": "3fb3f79b-b9c3-44ad-8deb-b253459f68f3",
   "metadata": {},
   "outputs": [
    {
     "data": {
      "text/plain": [
       "array([0, 0, 1, 1, 2], dtype=int32)"
      ]
     },
     "execution_count": 108,
     "metadata": {},
     "output_type": "execute_result"
    }
   ],
   "source": [
    "lca.technosphere_matrix.nonzero()[0]"
   ]
  },
  {
   "cell_type": "code",
   "execution_count": 107,
   "id": "8dcf712b-dc47-4a31-95f2-e46303f33fa0",
   "metadata": {},
   "outputs": [
    {
     "data": {
      "text/plain": [
       "-237.0"
      ]
     },
     "execution_count": 107,
     "metadata": {},
     "output_type": "execute_result"
    }
   ],
   "source": [
    "lca.technosphere_matrix[0, 1]"
   ]
  },
  {
   "cell_type": "code",
   "execution_count": null,
   "id": "fd0d84e6-1723-42eb-9ba8-f3ee26f819e5",
   "metadata": {},
   "outputs": [],
   "source": []
  }
 ],
 "metadata": {
  "kernelspec": {
   "display_name": "Python 3 (ipykernel)",
   "language": "python",
   "name": "python3"
  },
  "language_info": {
   "codemirror_mode": {
    "name": "ipython",
    "version": 3
   },
   "file_extension": ".py",
   "mimetype": "text/x-python",
   "name": "python",
   "nbconvert_exporter": "python",
   "pygments_lexer": "ipython3",
   "version": "3.10.13"
  }
 },
 "nbformat": 4,
 "nbformat_minor": 5
}
